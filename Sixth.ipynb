{
 "cells": [
  {
   "cell_type": "code",
   "execution_count": 45,
   "metadata": {},
   "outputs": [],
   "source": [
    "import pandas as pd\n",
    "import numpy as np\n",
    "import matplotlib.pyplot as plt\n",
    "import seaborn as sns\n",
    "%matplotlib inline\n",
    "%config InlineBackend.figure_format = 'retina'\n",
    "plt.style.use('fivethirtyeight')"
   ]
  },
  {
   "cell_type": "code",
   "execution_count": 46,
   "metadata": {},
   "outputs": [],
   "source": [
    "df = pd.read_csv('clean_tweets.csv')"
   ]
  },
  {
   "cell_type": "code",
   "execution_count": 47,
   "metadata": {},
   "outputs": [],
   "source": [
    "df.drop(['Unnamed: 0'], axis=1, inplace=True)\n",
    "df['sentiment'] = df['sentiment'].map({0:0,4:1})"
   ]
  },
  {
   "cell_type": "code",
   "execution_count": 48,
   "metadata": {},
   "outputs": [
    {
     "name": "stdout",
     "output_type": "stream",
     "text": [
      "<class 'pandas.core.frame.DataFrame'>\n",
      "RangeIndex: 1600000 entries, 0 to 1599999\n",
      "Data columns (total 2 columns):\n",
      "sentiment    1600000 non-null int64\n",
      "text         1596714 non-null object\n",
      "dtypes: int64(1), object(1)\n",
      "memory usage: 24.4+ MB\n"
     ]
    }
   ],
   "source": [
    "df.info()"
   ]
  },
  {
   "cell_type": "code",
   "execution_count": 49,
   "metadata": {},
   "outputs": [],
   "source": [
    "df.dropna(inplace=True)"
   ]
  },
  {
   "cell_type": "code",
   "execution_count": 50,
   "metadata": {},
   "outputs": [
    {
     "name": "stdout",
     "output_type": "stream",
     "text": [
      "<class 'pandas.core.frame.DataFrame'>\n",
      "Int64Index: 1596714 entries, 0 to 1599999\n",
      "Data columns (total 2 columns):\n",
      "sentiment    1596714 non-null int64\n",
      "text         1596714 non-null object\n",
      "dtypes: int64(1), object(1)\n",
      "memory usage: 36.5+ MB\n"
     ]
    }
   ],
   "source": [
    "df.info()"
   ]
  },
  {
   "cell_type": "code",
   "execution_count": 51,
   "metadata": {},
   "outputs": [],
   "source": [
    "from sklearn.model_selection import train_test_split"
   ]
  },
  {
   "cell_type": "code",
   "execution_count": 52,
   "metadata": {},
   "outputs": [],
   "source": [
    "x = df['text'] #define all other columns except the target variable\n",
    "y = df['sentiment'] #define the target variable\n",
    "\n",
    "x_train, x_validation_and_test, y_train, y_validation_and_test = train_test_split(x, y, test_size = 0.02, random_state = 42)\n",
    "\n",
    "x_validation, x_test, y_validation, y_test = train_test_split(x_validation_and_test, y_validation_and_test, \n",
    "                                                              test_size = 0.5, random_state = 42)"
   ]
  },
  {
   "cell_type": "markdown",
   "metadata": {},
   "source": [
    "## Doc2Vec Model"
   ]
  },
  {
   "cell_type": "markdown",
   "metadata": {},
   "source": [
    "Here, I am going to implement Doc2Vec model using Gensim.\n",
    "I will use the following approaches:\n",
    "* DBOW (Distributed Bag Of Words) \n",
    "* DMC (Distributed Memory Concatenated)\n",
    "* DMM (Distributed Memory Mean)\n",
    "* DBOW + DMC\n",
    "* DBOW + DMM\n",
    "\n",
    "I will implement a simple logistic regression model with above vectors."
   ]
  },
  {
   "cell_type": "code",
   "execution_count": 53,
   "metadata": {},
   "outputs": [],
   "source": [
    "from tqdm import tqdm\n",
    "tqdm.pandas(desc='progress-bar')"
   ]
  },
  {
   "cell_type": "code",
   "execution_count": 63,
   "metadata": {},
   "outputs": [],
   "source": [
    "from gensim.models import Doc2Vec\n",
    "from gensim.models.doc2vec import TaggedDocument\n",
    "import multiprocessing\n",
    "from sklearn import utils"
   ]
  },
  {
   "cell_type": "markdown",
   "metadata": {},
   "source": [
    "For doc2vec training, I use the whole data because it is completely unsupervised and there is no need to hold out any data because it is unlabelled."
   ]
  },
  {
   "cell_type": "code",
   "execution_count": 64,
   "metadata": {},
   "outputs": [],
   "source": [
    "def labelize_tweets(tweets, label):\n",
    "    result = []\n",
    "    prefix = label\n",
    "    for i, t in zip(tweets.index, tweets):\n",
    "        result.append(TaggedDocument(t.split(), [prefix + '_%s' % i]))\n",
    "    return result"
   ]
  },
  {
   "cell_type": "code",
   "execution_count": 65,
   "metadata": {},
   "outputs": [],
   "source": [
    "all_x = pd.concat([x_train, x_validation, x_test])\n",
    "all_x_w2v = labelize_tweets(all_x, 'all')"
   ]
  },
  {
   "cell_type": "code",
   "execution_count": 66,
   "metadata": {},
   "outputs": [
    {
     "data": {
      "text/plain": [
       "1596714"
      ]
     },
     "execution_count": 66,
     "metadata": {},
     "output_type": "execute_result"
    }
   ],
   "source": [
    "len(all_x_w2v)"
   ]
  },
  {
   "cell_type": "markdown",
   "metadata": {},
   "source": [
    "## DBOW"
   ]
  },
  {
   "cell_type": "code",
   "execution_count": 71,
   "metadata": {},
   "outputs": [
    {
     "name": "stderr",
     "output_type": "stream",
     "text": [
      "100%|███████████████████████████████████████████████████████████████████| 1596714/1596714 [00:00<00:00, 1766088.75it/s]\n"
     ]
    }
   ],
   "source": [
    "cores = multiprocessing.cpu_count()\n",
    "model_ug_dbow = Doc2Vec(dm=0, vector_size=100, negative=5, workers=cores, min_count=2, alpha = 0.065, min_alpha=0.065)\n",
    "model_ug_dbow.build_vocab([x for x in tqdm(all_x_w2v)])"
   ]
  },
  {
   "cell_type": "markdown",
   "metadata": {},
   "source": [
    "One caveat of the way this algorithm runs is that, since the learning rate decrease over the course of iterating over the data, labels which are only seen in a single TaggedDocument during training will only be trained with a fixed learning rate. This frequently produces less than optimal results.\n",
    "\n",
    "The below iteration implements explicit multiple pass, alpha-reduction approach with added shuffling."
   ]
  },
  {
   "cell_type": "code",
   "execution_count": 72,
   "metadata": {},
   "outputs": [
    {
     "name": "stderr",
     "output_type": "stream",
     "text": [
      "100%|███████████████████████████████████████████████████████████████████| 1596714/1596714 [00:00<00:00, 1839536.74it/s]\n",
      "100%|███████████████████████████████████████████████████████████████████| 1596714/1596714 [00:00<00:00, 3244647.01it/s]\n",
      "100%|███████████████████████████████████████████████████████████████████| 1596714/1596714 [00:00<00:00, 3186444.77it/s]\n",
      "100%|███████████████████████████████████████████████████████████████████| 1596714/1596714 [00:00<00:00, 3410778.20it/s]\n",
      "100%|███████████████████████████████████████████████████████████████████| 1596714/1596714 [00:00<00:00, 2175252.37it/s]\n",
      "100%|███████████████████████████████████████████████████████████████████| 1596714/1596714 [00:00<00:00, 3218330.27it/s]\n",
      "100%|███████████████████████████████████████████████████████████████████| 1596714/1596714 [00:00<00:00, 3367365.43it/s]\n",
      "100%|███████████████████████████████████████████████████████████████████| 1596714/1596714 [00:00<00:00, 3253804.43it/s]\n",
      "100%|███████████████████████████████████████████████████████████████████| 1596714/1596714 [00:00<00:00, 3060797.23it/s]\n",
      "100%|███████████████████████████████████████████████████████████████████| 1596714/1596714 [00:00<00:00, 3387854.46it/s]\n",
      "100%|███████████████████████████████████████████████████████████████████| 1596714/1596714 [00:00<00:00, 3337260.34it/s]\n",
      "100%|███████████████████████████████████████████████████████████████████| 1596714/1596714 [00:00<00:00, 3304276.31it/s]\n",
      "100%|███████████████████████████████████████████████████████████████████| 1596714/1596714 [00:00<00:00, 3051041.82it/s]\n",
      "100%|███████████████████████████████████████████████████████████████████| 1596714/1596714 [00:00<00:00, 3254465.36it/s]\n",
      "100%|███████████████████████████████████████████████████████████████████| 1596714/1596714 [00:00<00:00, 3287077.04it/s]\n",
      "100%|███████████████████████████████████████████████████████████████████| 1596714/1596714 [00:00<00:00, 3006274.12it/s]\n",
      "100%|███████████████████████████████████████████████████████████████████| 1596714/1596714 [00:00<00:00, 3239218.61it/s]\n",
      "100%|███████████████████████████████████████████████████████████████████| 1596714/1596714 [00:00<00:00, 2407464.47it/s]\n",
      "100%|███████████████████████████████████████████████████████████████████| 1596714/1596714 [00:00<00:00, 2898681.01it/s]\n",
      "100%|███████████████████████████████████████████████████████████████████| 1596714/1596714 [00:00<00:00, 2903655.34it/s]\n",
      "100%|███████████████████████████████████████████████████████████████████| 1596714/1596714 [00:00<00:00, 3299620.24it/s]\n",
      "100%|███████████████████████████████████████████████████████████████████| 1596714/1596714 [00:00<00:00, 3329182.77it/s]\n",
      "100%|███████████████████████████████████████████████████████████████████| 1596714/1596714 [00:00<00:00, 2979045.99it/s]\n",
      "100%|███████████████████████████████████████████████████████████████████| 1596714/1596714 [00:00<00:00, 3362872.75it/s]\n",
      "100%|███████████████████████████████████████████████████████████████████| 1596714/1596714 [00:00<00:00, 3229597.80it/s]\n",
      "100%|███████████████████████████████████████████████████████████████████| 1596714/1596714 [00:00<00:00, 3357033.50it/s]\n",
      "100%|███████████████████████████████████████████████████████████████████| 1596714/1596714 [00:00<00:00, 3247694.80it/s]\n",
      "100%|███████████████████████████████████████████████████████████████████| 1596714/1596714 [00:00<00:00, 2845444.63it/s]\n",
      "100%|███████████████████████████████████████████████████████████████████| 1596714/1596714 [00:00<00:00, 3041389.83it/s]\n",
      "100%|███████████████████████████████████████████████████████████████████| 1596714/1596714 [00:00<00:00, 3263185.40it/s]\n"
     ]
    },
    {
     "name": "stdout",
     "output_type": "stream",
     "text": [
      "Wall time: 34min 15s\n"
     ]
    }
   ],
   "source": [
    "%%time\n",
    "for epoch in range(30):\n",
    "    model_ug_dbow.train(utils.shuffle([x for x in tqdm(all_x_w2v)]), total_examples=len(all_x_w2v), epochs=1)\n",
    "    model_ug_dbow.alpha -= 0.002\n",
    "    model_ug_dbow.min_alpha = model_ug_dbow.alpha"
   ]
  },
  {
   "cell_type": "code",
   "execution_count": null,
   "metadata": {},
   "outputs": [],
   "source": []
  }
 ],
 "metadata": {
  "kernelspec": {
   "display_name": "Python 3",
   "language": "python",
   "name": "python3"
  },
  "language_info": {
   "codemirror_mode": {
    "name": "ipython",
    "version": 3
   },
   "file_extension": ".py",
   "mimetype": "text/x-python",
   "name": "python",
   "nbconvert_exporter": "python",
   "pygments_lexer": "ipython3",
   "version": "3.7.1"
  }
 },
 "nbformat": 4,
 "nbformat_minor": 2
}
