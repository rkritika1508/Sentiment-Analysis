{
 "cells": [
  {
   "cell_type": "code",
   "execution_count": 1,
   "metadata": {},
   "outputs": [],
   "source": [
    "import pandas as pd\n",
    "import numpy as np\n",
    "import matplotlib.pyplot as plt\n",
    "import seaborn as sns\n",
    "%matplotlib inline\n",
    "%config InlineBackend.figure_format = 'retina'\n",
    "plt.style.use('fivethirtyeight')"
   ]
  },
  {
   "cell_type": "code",
   "execution_count": 2,
   "metadata": {},
   "outputs": [],
   "source": [
    "df = pd.read_csv('clean_tweets.csv')"
   ]
  },
  {
   "cell_type": "code",
   "execution_count": 3,
   "metadata": {},
   "outputs": [],
   "source": [
    "df.drop(['Unnamed: 0'], axis=1, inplace=True)\n",
    "df['sentiment'] = df['sentiment'].map({0:0,4:1})"
   ]
  },
  {
   "cell_type": "code",
   "execution_count": 4,
   "metadata": {},
   "outputs": [
    {
     "name": "stdout",
     "output_type": "stream",
     "text": [
      "<class 'pandas.core.frame.DataFrame'>\n",
      "RangeIndex: 1600000 entries, 0 to 1599999\n",
      "Data columns (total 2 columns):\n",
      "sentiment    1600000 non-null int64\n",
      "text         1596714 non-null object\n",
      "dtypes: int64(1), object(1)\n",
      "memory usage: 24.4+ MB\n"
     ]
    }
   ],
   "source": [
    "df.info()"
   ]
  },
  {
   "cell_type": "code",
   "execution_count": 5,
   "metadata": {},
   "outputs": [],
   "source": [
    "df.dropna(inplace=True)"
   ]
  },
  {
   "cell_type": "code",
   "execution_count": 6,
   "metadata": {},
   "outputs": [
    {
     "name": "stdout",
     "output_type": "stream",
     "text": [
      "<class 'pandas.core.frame.DataFrame'>\n",
      "Int64Index: 1596714 entries, 0 to 1599999\n",
      "Data columns (total 2 columns):\n",
      "sentiment    1596714 non-null int64\n",
      "text         1596714 non-null object\n",
      "dtypes: int64(1), object(1)\n",
      "memory usage: 36.5+ MB\n"
     ]
    }
   ],
   "source": [
    "df.info()"
   ]
  },
  {
   "cell_type": "code",
   "execution_count": 7,
   "metadata": {},
   "outputs": [],
   "source": [
    "from sklearn.model_selection import train_test_split"
   ]
  },
  {
   "cell_type": "code",
   "execution_count": 8,
   "metadata": {},
   "outputs": [],
   "source": [
    "x = df['text'] #define all other columns except the target variable\n",
    "y = df['sentiment'] #define the target variable\n",
    "\n",
    "x_train, x_validation_and_test, y_train, y_validation_and_test = train_test_split(x, y, test_size = 0.02, random_state = 42)\n",
    "\n",
    "x_validation, x_test, y_validation, y_test = train_test_split(x_validation_and_test, y_validation_and_test, \n",
    "                                                              test_size = 0.5, random_state = 42)"
   ]
  },
  {
   "cell_type": "markdown",
   "metadata": {},
   "source": [
    "## Doc2Vec Model"
   ]
  },
  {
   "cell_type": "markdown",
   "metadata": {},
   "source": [
    "Here, I am going to implement Doc2Vec model using Gensim.\n",
    "I will use the following approaches:\n",
    "* DBOW (Distributed Bag Of Words) \n",
    "* DMC (Distributed Memory Concatenated)\n",
    "* DMM (Distributed Memory Mean)\n",
    "* DBOW + DMC\n",
    "* DBOW + DMM\n",
    "\n",
    "I will implement a simple logistic regression model with above vectors."
   ]
  },
  {
   "cell_type": "code",
   "execution_count": 9,
   "metadata": {},
   "outputs": [],
   "source": [
    "from tqdm import tqdm\n",
    "tqdm.pandas(desc='progress-bar')"
   ]
  },
  {
   "cell_type": "code",
   "execution_count": 10,
   "metadata": {},
   "outputs": [],
   "source": [
    "from gensim.models import Doc2Vec\n",
    "from gensim.models.doc2vec import TaggedDocument\n",
    "import multiprocessing\n",
    "from sklearn import utils"
   ]
  },
  {
   "cell_type": "markdown",
   "metadata": {},
   "source": [
    "For doc2vec training, I use the whole data because it is completely unsupervised and there is no need to hold out any data because it is unlabelled."
   ]
  },
  {
   "cell_type": "code",
   "execution_count": 11,
   "metadata": {},
   "outputs": [],
   "source": [
    "def labelize_tweets(tweets, label):\n",
    "    result = []\n",
    "    prefix = label\n",
    "    for i, t in zip(tweets.index, tweets):\n",
    "        result.append(TaggedDocument(t.split(), [prefix + '_%s' % i]))\n",
    "    return result"
   ]
  },
  {
   "cell_type": "code",
   "execution_count": 12,
   "metadata": {},
   "outputs": [],
   "source": [
    "all_x = pd.concat([x_train, x_validation, x_test])\n",
    "all_x_w2v = labelize_tweets(all_x, 'all')"
   ]
  },
  {
   "cell_type": "code",
   "execution_count": 13,
   "metadata": {},
   "outputs": [
    {
     "data": {
      "text/plain": [
       "1596714"
      ]
     },
     "execution_count": 13,
     "metadata": {},
     "output_type": "execute_result"
    }
   ],
   "source": [
    "len(all_x_w2v)"
   ]
  },
  {
   "cell_type": "markdown",
   "metadata": {},
   "source": [
    "## DBOW"
   ]
  },
  {
   "cell_type": "code",
   "execution_count": 14,
   "metadata": {},
   "outputs": [
    {
     "name": "stderr",
     "output_type": "stream",
     "text": [
      "100%|███████████████████████████████████████████████████████████████████| 1596714/1596714 [00:00<00:00, 1819169.66it/s]\n"
     ]
    }
   ],
   "source": [
    "cores = multiprocessing.cpu_count()\n",
    "model_ug_dbow = Doc2Vec(dm=0, vector_size=100, negative=5, workers=cores, min_count=2, alpha = 0.065, min_alpha=0.065)\n",
    "model_ug_dbow.build_vocab([x for x in tqdm(all_x_w2v)])"
   ]
  },
  {
   "cell_type": "markdown",
   "metadata": {},
   "source": [
    "One caveat of the way this algorithm runs is that, since the learning rate decrease over the course of iterating over the data, labels which are only seen in a single TaggedDocument during training will only be trained with a fixed learning rate. This frequently produces less than optimal results.\n",
    "\n",
    "The below iteration implements explicit multiple pass, alpha-reduction approach with added shuffling."
   ]
  },
  {
   "cell_type": "code",
   "execution_count": 15,
   "metadata": {},
   "outputs": [
    {
     "name": "stderr",
     "output_type": "stream",
     "text": [
      "100%|███████████████████████████████████████████████████████████████████| 1596714/1596714 [00:00<00:00, 1730960.61it/s]\n",
      "100%|███████████████████████████████████████████████████████████████████| 1596714/1596714 [00:00<00:00, 1737110.75it/s]\n",
      "100%|███████████████████████████████████████████████████████████████████| 1596714/1596714 [00:00<00:00, 1768577.88it/s]\n",
      "100%|███████████████████████████████████████████████████████████████████| 1596714/1596714 [00:00<00:00, 1791194.88it/s]\n",
      "100%|███████████████████████████████████████████████████████████████████| 1596714/1596714 [00:00<00:00, 1762919.54it/s]\n",
      "100%|███████████████████████████████████████████████████████████████████| 1596714/1596714 [00:00<00:00, 2156919.64it/s]\n",
      "100%|███████████████████████████████████████████████████████████████████| 1596714/1596714 [00:00<00:00, 1930585.31it/s]\n",
      "100%|███████████████████████████████████████████████████████████████████| 1596714/1596714 [00:01<00:00, 1574401.83it/s]\n",
      "100%|███████████████████████████████████████████████████████████████████| 1596714/1596714 [00:00<00:00, 1729668.17it/s]\n",
      "100%|███████████████████████████████████████████████████████████████████| 1596714/1596714 [00:00<00:00, 2070112.55it/s]\n",
      "100%|███████████████████████████████████████████████████████████████████| 1596714/1596714 [00:00<00:00, 1822617.45it/s]\n",
      "100%|███████████████████████████████████████████████████████████████████| 1596714/1596714 [00:00<00:00, 2020354.65it/s]\n",
      "100%|███████████████████████████████████████████████████████████████████| 1596714/1596714 [00:00<00:00, 1847069.82it/s]\n",
      "100%|███████████████████████████████████████████████████████████████████| 1596714/1596714 [00:00<00:00, 1926437.50it/s]\n",
      "100%|███████████████████████████████████████████████████████████████████| 1596714/1596714 [00:00<00:00, 1890310.60it/s]\n",
      "100%|███████████████████████████████████████████████████████████████████| 1596714/1596714 [00:00<00:00, 1776739.67it/s]\n",
      "100%|███████████████████████████████████████████████████████████████████| 1596714/1596714 [00:00<00:00, 2984100.75it/s]\n",
      "100%|███████████████████████████████████████████████████████████████████| 1596714/1596714 [00:00<00:00, 2053655.45it/s]\n",
      "100%|███████████████████████████████████████████████████████████████████| 1596714/1596714 [00:00<00:00, 2006524.90it/s]\n",
      "100%|███████████████████████████████████████████████████████████████████| 1596714/1596714 [00:00<00:00, 1888814.10it/s]\n",
      "100%|███████████████████████████████████████████████████████████████████| 1596714/1596714 [00:00<00:00, 3206603.63it/s]\n",
      "100%|███████████████████████████████████████████████████████████████████| 1596714/1596714 [00:00<00:00, 3107459.70it/s]\n",
      "100%|███████████████████████████████████████████████████████████████████| 1596714/1596714 [00:00<00:00, 3190756.30it/s]\n",
      "100%|███████████████████████████████████████████████████████████████████| 1596714/1596714 [00:00<00:00, 3359600.00it/s]\n",
      "100%|███████████████████████████████████████████████████████████████████| 1596714/1596714 [00:00<00:00, 2727396.87it/s]\n",
      "100%|███████████████████████████████████████████████████████████████████| 1596714/1596714 [00:00<00:00, 2991413.13it/s]\n",
      "100%|███████████████████████████████████████████████████████████████████| 1596714/1596714 [00:00<00:00, 3255856.11it/s]\n",
      "100%|███████████████████████████████████████████████████████████████████| 1596714/1596714 [00:00<00:00, 3084650.83it/s]\n",
      "100%|███████████████████████████████████████████████████████████████████| 1596714/1596714 [00:00<00:00, 3322569.47it/s]\n",
      "100%|███████████████████████████████████████████████████████████████████| 1596714/1596714 [00:00<00:00, 3299665.76it/s]\n"
     ]
    },
    {
     "name": "stdout",
     "output_type": "stream",
     "text": [
      "Wall time: 47min 50s\n"
     ]
    }
   ],
   "source": [
    "%%time\n",
    "for epoch in range(30):\n",
    "    model_ug_dbow.train(utils.shuffle([x for x in tqdm(all_x_w2v)]), total_examples=len(all_x_w2v), epochs=1)\n",
    "    model_ug_dbow.alpha -= 0.002\n",
    "    model_ug_dbow.min_alpha = model_ug_dbow.alpha"
   ]
  },
  {
   "cell_type": "code",
   "execution_count": 18,
   "metadata": {},
   "outputs": [],
   "source": [
    "def get_vectors(model, corpus, size):\n",
    "    vecs = np.zeros((len(corpus), size))\n",
    "    n = 0\n",
    "    for i in corpus.index:\n",
    "        prefix = 'all_' + str(i)\n",
    "        vecs[n] = model.docvecs[prefix]\n",
    "        n += 1\n",
    "    return vecs"
   ]
  },
  {
   "cell_type": "code",
   "execution_count": 19,
   "metadata": {},
   "outputs": [],
   "source": [
    "train_vecs_dbow = get_vectors(model_ug_dbow, x_train, 100)\n",
    "validation_vecs_dbow = get_vectors(model_ug_dbow, x_validation, 100)"
   ]
  },
  {
   "cell_type": "code",
   "execution_count": 21,
   "metadata": {},
   "outputs": [],
   "source": [
    "from sklearn.linear_model import LogisticRegression"
   ]
  },
  {
   "cell_type": "code",
   "execution_count": 22,
   "metadata": {},
   "outputs": [
    {
     "name": "stderr",
     "output_type": "stream",
     "text": [
      "C:\\Users\\dell\\Anaconda3\\lib\\site-packages\\sklearn\\linear_model\\logistic.py:433: FutureWarning: Default solver will be changed to 'lbfgs' in 0.22. Specify a solver to silence this warning.\n",
      "  FutureWarning)\n"
     ]
    },
    {
     "data": {
      "text/plain": [
       "LogisticRegression(C=1.0, class_weight=None, dual=False, fit_intercept=True,\n",
       "          intercept_scaling=1, max_iter=100, multi_class='warn',\n",
       "          n_jobs=None, penalty='l2', random_state=None, solver='warn',\n",
       "          tol=0.0001, verbose=0, warm_start=False)"
      ]
     },
     "execution_count": 22,
     "metadata": {},
     "output_type": "execute_result"
    }
   ],
   "source": [
    "clf = LogisticRegression()\n",
    "clf.fit(train_vecs_dbow, y_train)"
   ]
  },
  {
   "cell_type": "code",
   "execution_count": 23,
   "metadata": {},
   "outputs": [
    {
     "data": {
      "text/plain": [
       "0.7360806663743972"
      ]
     },
     "execution_count": 23,
     "metadata": {},
     "output_type": "execute_result"
    }
   ],
   "source": [
    "clf.score(validation_vecs_dbow, y_validation)"
   ]
  },
  {
   "cell_type": "code",
   "execution_count": 54,
   "metadata": {},
   "outputs": [],
   "source": [
    "model_ug_dbow.save('d2v_model_ug_dbow.doc2vec')\n",
    "#model_tg_dbow = Doc2Vec.load('d2v_model_tg_dbow.doc2vec')"
   ]
  },
  {
   "cell_type": "markdown",
   "metadata": {},
   "source": [
    "## DMC"
   ]
  },
  {
   "cell_type": "code",
   "execution_count": 24,
   "metadata": {},
   "outputs": [
    {
     "name": "stderr",
     "output_type": "stream",
     "text": [
      "100%|████████████████████████████████████████████████████████████████████| 1596714/1596714 [00:01<00:00, 969955.30it/s]\n"
     ]
    }
   ],
   "source": [
    "cores = multiprocessing.cpu_count()\n",
    "model_ug_dmc = Doc2Vec(dm=1, dm_concat=1, vector_size=100, negative=5, window=2,\n",
    "                       workers=cores, min_count=2, alpha = 0.065, min_alpha=0.065)\n",
    "model_ug_dmc.build_vocab([x for x in tqdm(all_x_w2v)])"
   ]
  },
  {
   "cell_type": "code",
   "execution_count": 25,
   "metadata": {},
   "outputs": [
    {
     "name": "stderr",
     "output_type": "stream",
     "text": [
      "100%|███████████████████████████████████████████████████████████████████| 1596714/1596714 [00:00<00:00, 2827588.56it/s]\n",
      "100%|███████████████████████████████████████████████████████████████████| 1596714/1596714 [00:00<00:00, 3324451.35it/s]\n",
      "100%|███████████████████████████████████████████████████████████████████| 1596714/1596714 [00:00<00:00, 3475112.06it/s]\n",
      "100%|███████████████████████████████████████████████████████████████████| 1596714/1596714 [00:00<00:00, 2953095.55it/s]\n",
      "100%|███████████████████████████████████████████████████████████████████| 1596714/1596714 [00:00<00:00, 3213650.93it/s]\n",
      "100%|███████████████████████████████████████████████████████████████████| 1596714/1596714 [00:00<00:00, 2175248.84it/s]\n",
      "100%|███████████████████████████████████████████████████████████████████| 1596714/1596714 [00:00<00:00, 2844120.22it/s]\n",
      "100%|███████████████████████████████████████████████████████████████████| 1596714/1596714 [00:00<00:00, 2975999.92it/s]\n",
      "100%|███████████████████████████████████████████████████████████████████| 1596714/1596714 [00:00<00:00, 3422767.83it/s]\n",
      "100%|███████████████████████████████████████████████████████████████████| 1596714/1596714 [00:00<00:00, 3042540.81it/s]\n",
      "100%|███████████████████████████████████████████████████████████████████| 1596714/1596714 [00:00<00:00, 2913498.21it/s]\n",
      "100%|███████████████████████████████████████████████████████████████████| 1596714/1596714 [00:00<00:00, 3223605.03it/s]\n",
      "100%|███████████████████████████████████████████████████████████████████| 1596714/1596714 [00:00<00:00, 3172788.97it/s]\n",
      "100%|███████████████████████████████████████████████████████████████████| 1596714/1596714 [00:00<00:00, 3315048.42it/s]\n",
      "100%|███████████████████████████████████████████████████████████████████| 1596714/1596714 [00:00<00:00, 2513328.81it/s]\n",
      "100%|███████████████████████████████████████████████████████████████████| 1596714/1596714 [00:00<00:00, 3312611.78it/s]\n",
      "100%|███████████████████████████████████████████████████████████████████| 1596714/1596714 [00:00<00:00, 3363620.98it/s]\n",
      "100%|███████████████████████████████████████████████████████████████████| 1596714/1596714 [00:00<00:00, 2891459.86it/s]\n",
      "100%|███████████████████████████████████████████████████████████████████| 1596714/1596714 [00:00<00:00, 3261292.81it/s]\n",
      "100%|███████████████████████████████████████████████████████████████████| 1596714/1596714 [00:00<00:00, 3357440.78it/s]\n",
      "100%|███████████████████████████████████████████████████████████████████| 1596714/1596714 [00:00<00:00, 3102670.01it/s]\n",
      "100%|███████████████████████████████████████████████████████████████████| 1596714/1596714 [00:00<00:00, 2921720.70it/s]\n",
      "100%|███████████████████████████████████████████████████████████████████| 1596714/1596714 [00:00<00:00, 3362859.24it/s]\n",
      "100%|███████████████████████████████████████████████████████████████████| 1596714/1596714 [00:00<00:00, 2529099.65it/s]\n",
      "100%|███████████████████████████████████████████████████████████████████| 1596714/1596714 [00:00<00:00, 2931462.07it/s]\n",
      "100%|███████████████████████████████████████████████████████████████████| 1596714/1596714 [00:00<00:00, 2548897.74it/s]\n",
      "100%|███████████████████████████████████████████████████████████████████| 1596714/1596714 [00:00<00:00, 3424740.45it/s]\n",
      "100%|███████████████████████████████████████████████████████████████████| 1596714/1596714 [00:00<00:00, 3281480.15it/s]\n",
      "100%|███████████████████████████████████████████████████████████████████| 1596714/1596714 [00:00<00:00, 2910865.49it/s]\n",
      "100%|███████████████████████████████████████████████████████████████████| 1596714/1596714 [00:00<00:00, 3123917.31it/s]\n"
     ]
    },
    {
     "name": "stdout",
     "output_type": "stream",
     "text": [
      "Wall time: 33min 30s\n"
     ]
    }
   ],
   "source": [
    "%%time\n",
    "for epoch in range(30):\n",
    "    model_ug_dmc.train(utils.shuffle([x for x in tqdm(all_x_w2v)]), total_examples=len(all_x_w2v), epochs=1)\n",
    "    model_ug_dmc.alpha -= 0.002\n",
    "    model_ug_dmc.min_alpha = model_ug_dmc.alpha"
   ]
  },
  {
   "cell_type": "markdown",
   "metadata": {},
   "source": [
    "With DM model, we can see the semantic relationship between words."
   ]
  },
  {
   "cell_type": "code",
   "execution_count": 28,
   "metadata": {},
   "outputs": [
    {
     "data": {
      "text/plain": [
       "[('lovely', 0.7492602467536926),\n",
       " ('beautiful', 0.7370055317878723),\n",
       " ('great', 0.7369823455810547),\n",
       " ('bootiful', 0.732749879360199),\n",
       " ('wonderful', 0.7100207805633545),\n",
       " ('geat', 0.7081895470619202),\n",
       " ('fabulous', 0.6990154981613159),\n",
       " ('fantastic', 0.6940918564796448),\n",
       " ('baaaaddd', 0.6930461525917053),\n",
       " ('fab', 0.6819604635238647)]"
      ]
     },
     "execution_count": 28,
     "metadata": {},
     "output_type": "execute_result"
    }
   ],
   "source": [
    "model_ug_dmc.wv.most_similar(\"nice\")"
   ]
  },
  {
   "cell_type": "code",
   "execution_count": 29,
   "metadata": {},
   "outputs": [
    {
     "data": {
      "text/plain": [
       "[('hapy', 0.7775416374206543),\n",
       " ('hapi', 0.6970286965370178),\n",
       " ('happyy', 0.6885430812835693),\n",
       " ('pleased', 0.6862632036209106),\n",
       " ('happpy', 0.6779634952545166),\n",
       " ('thrilled', 0.6471766233444214),\n",
       " ('maytes', 0.6368981599807739),\n",
       " ('haaaappy', 0.6358321309089661),\n",
       " ('happpppy', 0.6321025490760803),\n",
       " ('happppy', 0.6223570108413696)]"
      ]
     },
     "execution_count": 29,
     "metadata": {},
     "output_type": "execute_result"
    }
   ],
   "source": [
    "model_ug_dmc.wv.most_similar(\"happy\")"
   ]
  },
  {
   "cell_type": "code",
   "execution_count": 30,
   "metadata": {},
   "outputs": [
    {
     "data": {
      "text/plain": [
       "[('depressed', 0.7377227544784546),\n",
       " ('bummed', 0.7218616604804993),\n",
       " ('frustated', 0.7171342372894287),\n",
       " ('upset', 0.7114315032958984),\n",
       " ('sadddd', 0.7111239433288574),\n",
       " ('frustating', 0.692534327507019),\n",
       " ('guted', 0.6885437369346619),\n",
       " ('gutted', 0.6817755699157715),\n",
       " ('exciteeeeed', 0.6740083694458008),\n",
       " ('happey', 0.670941174030304)]"
      ]
     },
     "execution_count": 30,
     "metadata": {},
     "output_type": "execute_result"
    }
   ],
   "source": [
    "model_ug_dmc.wv.most_similar(\"sad\")"
   ]
  },
  {
   "cell_type": "code",
   "execution_count": 31,
   "metadata": {},
   "outputs": [
    {
     "data": {
      "text/plain": [
       "[('myspace', 0.8465545177459717),\n",
       " ('youtube', 0.7960541248321533),\n",
       " ('fb', 0.7958188056945801),\n",
       " ('msn', 0.7688832879066467),\n",
       " ('flickr', 0.7637163400650024),\n",
       " ('bebo', 0.7617554068565369),\n",
       " ('skype', 0.7578939199447632),\n",
       " ('yahoo', 0.7534440755844116),\n",
       " ('linkedin', 0.7525861263275146),\n",
       " ('aim', 0.7207794189453125)]"
      ]
     },
     "execution_count": 31,
     "metadata": {},
     "output_type": "execute_result"
    }
   ],
   "source": [
    "model_ug_dmc.wv.most_similar(\"facebook\")"
   ]
  },
  {
   "cell_type": "code",
   "execution_count": 32,
   "metadata": {},
   "outputs": [],
   "source": [
    "train_vecs_dmc = get_vectors(model_ug_dmc, x_train, 100)\n",
    "validation_vecs_dmc = get_vectors(model_ug_dmc, x_validation, 100)"
   ]
  },
  {
   "cell_type": "code",
   "execution_count": 33,
   "metadata": {},
   "outputs": [
    {
     "name": "stderr",
     "output_type": "stream",
     "text": [
      "C:\\Users\\dell\\Anaconda3\\lib\\site-packages\\sklearn\\linear_model\\logistic.py:433: FutureWarning: Default solver will be changed to 'lbfgs' in 0.22. Specify a solver to silence this warning.\n",
      "  FutureWarning)\n"
     ]
    },
    {
     "data": {
      "text/plain": [
       "LogisticRegression(C=1.0, class_weight=None, dual=False, fit_intercept=True,\n",
       "          intercept_scaling=1, max_iter=100, multi_class='warn',\n",
       "          n_jobs=None, penalty='l2', random_state=None, solver='warn',\n",
       "          tol=0.0001, verbose=0, warm_start=False)"
      ]
     },
     "execution_count": 33,
     "metadata": {},
     "output_type": "execute_result"
    }
   ],
   "source": [
    "clf = LogisticRegression()\n",
    "clf.fit(train_vecs_dmc, y_train)"
   ]
  },
  {
   "cell_type": "code",
   "execution_count": 34,
   "metadata": {},
   "outputs": [
    {
     "data": {
      "text/plain": [
       "0.6664996555395504"
      ]
     },
     "execution_count": 34,
     "metadata": {},
     "output_type": "execute_result"
    }
   ],
   "source": [
    "clf.score(validation_vecs_dmc, y_validation)"
   ]
  },
  {
   "cell_type": "code",
   "execution_count": 55,
   "metadata": {},
   "outputs": [],
   "source": [
    "model_ug_dmc.save('d2v_model_ug_dmc.doc2vec')"
   ]
  },
  {
   "cell_type": "markdown",
   "metadata": {},
   "source": [
    "## DMM"
   ]
  },
  {
   "cell_type": "code",
   "execution_count": 35,
   "metadata": {},
   "outputs": [
    {
     "name": "stderr",
     "output_type": "stream",
     "text": [
      "100%|████████████████████████████████████████████████████████████████████| 1596714/1596714 [00:06<00:00, 233577.57it/s]\n"
     ]
    }
   ],
   "source": [
    "cores = multiprocessing.cpu_count()\n",
    "model_ug_dmm = Doc2Vec(dm=1, dm_mean=1, vector_size=100, negative=5, window=4, workers=cores,\n",
    "                        min_count=2, alpha = 0.065, min_alpha=0.065)\n",
    "model_ug_dmm.build_vocab([x for x in tqdm(all_x_w2v)])"
   ]
  },
  {
   "cell_type": "code",
   "execution_count": 36,
   "metadata": {},
   "outputs": [
    {
     "name": "stderr",
     "output_type": "stream",
     "text": [
      "100%|███████████████████████████████████████████████████████████████████| 1596714/1596714 [00:00<00:00, 1599358.43it/s]\n",
      "100%|███████████████████████████████████████████████████████████████████| 1596714/1596714 [00:00<00:00, 1791986.65it/s]\n",
      "100%|███████████████████████████████████████████████████████████████████| 1596714/1596714 [00:00<00:00, 1879953.73it/s]\n",
      "100%|███████████████████████████████████████████████████████████████████| 1596714/1596714 [00:00<00:00, 2141675.85it/s]\n",
      "100%|███████████████████████████████████████████████████████████████████| 1596714/1596714 [00:00<00:00, 1911209.59it/s]\n",
      "100%|███████████████████████████████████████████████████████████████████| 1596714/1596714 [00:00<00:00, 1730177.58it/s]\n",
      "100%|███████████████████████████████████████████████████████████████████| 1596714/1596714 [00:00<00:00, 1980183.08it/s]\n",
      "100%|███████████████████████████████████████████████████████████████████| 1596714/1596714 [00:01<00:00, 1429262.51it/s]\n",
      "100%|███████████████████████████████████████████████████████████████████| 1596714/1596714 [00:00<00:00, 2102623.49it/s]\n",
      "100%|███████████████████████████████████████████████████████████████████| 1596714/1596714 [00:00<00:00, 1967819.56it/s]\n",
      "100%|███████████████████████████████████████████████████████████████████| 1596714/1596714 [00:00<00:00, 1881068.41it/s]\n",
      "100%|███████████████████████████████████████████████████████████████████| 1596714/1596714 [00:00<00:00, 2101417.44it/s]\n",
      "100%|███████████████████████████████████████████████████████████████████| 1596714/1596714 [00:00<00:00, 2138462.39it/s]\n",
      "100%|███████████████████████████████████████████████████████████████████| 1596714/1596714 [00:00<00:00, 2072033.34it/s]\n",
      "100%|███████████████████████████████████████████████████████████████████| 1596714/1596714 [00:00<00:00, 2024581.16it/s]\n",
      "100%|███████████████████████████████████████████████████████████████████| 1596714/1596714 [00:00<00:00, 1814623.50it/s]\n",
      "100%|███████████████████████████████████████████████████████████████████| 1596714/1596714 [00:00<00:00, 1700872.52it/s]\n",
      "100%|███████████████████████████████████████████████████████████████████| 1596714/1596714 [00:00<00:00, 2028410.61it/s]\n",
      "100%|███████████████████████████████████████████████████████████████████| 1596714/1596714 [00:00<00:00, 2194764.34it/s]\n",
      "100%|███████████████████████████████████████████████████████████████████| 1596714/1596714 [00:00<00:00, 2308822.31it/s]\n",
      "100%|███████████████████████████████████████████████████████████████████| 1596714/1596714 [00:00<00:00, 1661231.57it/s]\n",
      "100%|███████████████████████████████████████████████████████████████████| 1596714/1596714 [00:00<00:00, 2196150.52it/s]\n",
      "100%|███████████████████████████████████████████████████████████████████| 1596714/1596714 [00:00<00:00, 3244613.99it/s]\n",
      "100%|███████████████████████████████████████████████████████████████████| 1596714/1596714 [00:00<00:00, 2932219.33it/s]\n",
      "100%|███████████████████████████████████████████████████████████████████| 1596714/1596714 [00:00<00:00, 2922313.53it/s]\n",
      "100%|███████████████████████████████████████████████████████████████████| 1596714/1596714 [00:00<00:00, 3343076.00it/s]\n",
      "100%|███████████████████████████████████████████████████████████████████| 1596714/1596714 [00:00<00:00, 3391878.11it/s]\n",
      "100%|███████████████████████████████████████████████████████████████████| 1596714/1596714 [00:00<00:00, 3041889.91it/s]\n",
      "100%|███████████████████████████████████████████████████████████████████| 1596714/1596714 [00:00<00:00, 3220054.09it/s]\n",
      "100%|███████████████████████████████████████████████████████████████████| 1596714/1596714 [00:00<00:00, 2796046.23it/s]\n"
     ]
    },
    {
     "name": "stdout",
     "output_type": "stream",
     "text": [
      "Wall time: 1h 18min 44s\n"
     ]
    }
   ],
   "source": [
    "%%time\n",
    "for epoch in range(30):\n",
    "    model_ug_dmm.train(utils.shuffle([x for x in tqdm(all_x_w2v)]), total_examples=len(all_x_w2v), epochs=1)\n",
    "    model_ug_dmm.alpha -= 0.002\n",
    "    model_ug_dmm.min_alpha = model_ug_dmm.alpha"
   ]
  },
  {
   "cell_type": "code",
   "execution_count": 37,
   "metadata": {},
   "outputs": [
    {
     "data": {
      "text/plain": [
       "[('great', 0.8799686431884766),\n",
       " ('good', 0.8777741193771362),\n",
       " ('beautiful', 0.8707109689712524),\n",
       " ('wonderful', 0.8631876707077026),\n",
       " ('lovely', 0.8624066114425659),\n",
       " ('weird', 0.8522484302520752),\n",
       " ('fantastic', 0.8506590127944946),\n",
       " ('cool', 0.8493940830230713),\n",
       " ('fun', 0.8412531614303589),\n",
       " ('busy', 0.8368297815322876)]"
      ]
     },
     "execution_count": 37,
     "metadata": {},
     "output_type": "execute_result"
    }
   ],
   "source": [
    "model_ug_dmm.wv.most_similar(\"nice\")"
   ]
  },
  {
   "cell_type": "code",
   "execution_count": 38,
   "metadata": {},
   "outputs": [
    {
     "data": {
      "text/plain": [
       "[('sad', 0.867780864238739),\n",
       " ('excited', 0.8203477263450623),\n",
       " ('bummed', 0.8083328008651733),\n",
       " ('busy', 0.8071290254592896),\n",
       " ('upset', 0.8014763593673706),\n",
       " ('sure', 0.7936733365058899),\n",
       " ('lame', 0.7905880212783813),\n",
       " ('good', 0.7902517914772034),\n",
       " ('depressed', 0.7866224646568298),\n",
       " ('gutted', 0.7771831154823303)]"
      ]
     },
     "execution_count": 38,
     "metadata": {},
     "output_type": "execute_result"
    }
   ],
   "source": [
    "model_ug_dmm.wv.most_similar(\"happy\")"
   ]
  },
  {
   "cell_type": "code",
   "execution_count": 39,
   "metadata": {},
   "outputs": [
    {
     "data": {
      "text/plain": [
       "[('bummed', 0.8702001571655273),\n",
       " ('happy', 0.867780864238739),\n",
       " ('lame', 0.8556241989135742),\n",
       " ('busy', 0.851775050163269),\n",
       " ('excited', 0.8425253629684448),\n",
       " ('sure', 0.840003490447998),\n",
       " ('upset', 0.8397306203842163),\n",
       " ('cool', 0.8391295075416565),\n",
       " ('gutted', 0.8303613662719727),\n",
       " ('tired', 0.8293877243995667)]"
      ]
     },
     "execution_count": 39,
     "metadata": {},
     "output_type": "execute_result"
    }
   ],
   "source": [
    "model_ug_dmm.wv.most_similar(\"sad\")"
   ]
  },
  {
   "cell_type": "code",
   "execution_count": 40,
   "metadata": {},
   "outputs": [],
   "source": [
    "train_vecs_dmm = get_vectors(model_ug_dmm, x_train, 100)\n",
    "validation_vecs_dmm = get_vectors(model_ug_dmm, x_validation, 100)"
   ]
  },
  {
   "cell_type": "code",
   "execution_count": 41,
   "metadata": {},
   "outputs": [
    {
     "name": "stderr",
     "output_type": "stream",
     "text": [
      "C:\\Users\\dell\\Anaconda3\\lib\\site-packages\\sklearn\\linear_model\\logistic.py:433: FutureWarning: Default solver will be changed to 'lbfgs' in 0.22. Specify a solver to silence this warning.\n",
      "  FutureWarning)\n"
     ]
    },
    {
     "data": {
      "text/plain": [
       "LogisticRegression(C=1.0, class_weight=None, dual=False, fit_intercept=True,\n",
       "          intercept_scaling=1, max_iter=100, multi_class='warn',\n",
       "          n_jobs=None, penalty='l2', random_state=None, solver='warn',\n",
       "          tol=0.0001, verbose=0, warm_start=False)"
      ]
     },
     "execution_count": 41,
     "metadata": {},
     "output_type": "execute_result"
    }
   ],
   "source": [
    "clf = LogisticRegression()\n",
    "clf.fit(train_vecs_dmm, y_train)"
   ]
  },
  {
   "cell_type": "code",
   "execution_count": 42,
   "metadata": {},
   "outputs": [
    {
     "data": {
      "text/plain": [
       "0.7301935241435461"
      ]
     },
     "execution_count": 42,
     "metadata": {},
     "output_type": "execute_result"
    }
   ],
   "source": [
    "clf.score(validation_vecs_dmm, y_validation)"
   ]
  },
  {
   "cell_type": "code",
   "execution_count": 56,
   "metadata": {},
   "outputs": [],
   "source": [
    "model_ug_dmm.save('d2v_model_ug_dmm.doc2vec')"
   ]
  },
  {
   "cell_type": "markdown",
   "metadata": {},
   "source": [
    "## DBOW + DMC"
   ]
  },
  {
   "cell_type": "code",
   "execution_count": 43,
   "metadata": {},
   "outputs": [],
   "source": [
    "def get_concat_vectors(model1, model2, corpus, size):\n",
    "    vecs = np.zeros((len(corpus), size))\n",
    "    n = 0\n",
    "    for i in corpus.index:\n",
    "        prefix = 'all_' + str(i)\n",
    "        vecs[n] = np.append(model1.docvecs[prefix], model2.docvecs[prefix])\n",
    "        n += 1\n",
    "    return vecs"
   ]
  },
  {
   "cell_type": "code",
   "execution_count": 46,
   "metadata": {},
   "outputs": [],
   "source": [
    "train_vecs_dbow_dmc = get_concat_vectors(model_ug_dbow, model_ug_dmc, x_train, 200)\n",
    "validation_vecs_dbow_dmc = get_concat_vectors(model_ug_dbow, model_ug_dmc, x_validation, 200)"
   ]
  },
  {
   "cell_type": "code",
   "execution_count": 47,
   "metadata": {},
   "outputs": [
    {
     "name": "stderr",
     "output_type": "stream",
     "text": [
      "C:\\Users\\dell\\Anaconda3\\lib\\site-packages\\sklearn\\linear_model\\logistic.py:433: FutureWarning: Default solver will be changed to 'lbfgs' in 0.22. Specify a solver to silence this warning.\n",
      "  FutureWarning)\n"
     ]
    },
    {
     "data": {
      "text/plain": [
       "LogisticRegression(C=1.0, class_weight=None, dual=False, fit_intercept=True,\n",
       "          intercept_scaling=1, max_iter=100, multi_class='warn',\n",
       "          n_jobs=None, penalty='l2', random_state=None, solver='warn',\n",
       "          tol=0.0001, verbose=0, warm_start=False)"
      ]
     },
     "execution_count": 47,
     "metadata": {},
     "output_type": "execute_result"
    }
   ],
   "source": [
    "clf = LogisticRegression()\n",
    "clf.fit(train_vecs_dbow_dmc, y_train)"
   ]
  },
  {
   "cell_type": "code",
   "execution_count": 49,
   "metadata": {},
   "outputs": [
    {
     "data": {
      "text/plain": [
       "0.7482307258721113"
      ]
     },
     "execution_count": 49,
     "metadata": {},
     "output_type": "execute_result"
    }
   ],
   "source": [
    "clf.score(validation_vecs_dbow_dmc, y_validation)"
   ]
  },
  {
   "cell_type": "markdown",
   "metadata": {},
   "source": [
    "## DBOW + DMM"
   ]
  },
  {
   "cell_type": "code",
   "execution_count": 50,
   "metadata": {},
   "outputs": [],
   "source": [
    "train_vecs_dbow_dmm = get_concat_vectors(model_ug_dbow, model_ug_dmm, x_train, 200)\n",
    "validation_vecs_dbow_dmm = get_concat_vectors(model_ug_dbow, model_ug_dmm, x_validation, 200)"
   ]
  },
  {
   "cell_type": "code",
   "execution_count": 51,
   "metadata": {},
   "outputs": [
    {
     "name": "stderr",
     "output_type": "stream",
     "text": [
      "C:\\Users\\dell\\Anaconda3\\lib\\site-packages\\sklearn\\linear_model\\logistic.py:433: FutureWarning: Default solver will be changed to 'lbfgs' in 0.22. Specify a solver to silence this warning.\n",
      "  FutureWarning)\n"
     ]
    },
    {
     "data": {
      "text/plain": [
       "LogisticRegression(C=1.0, class_weight=None, dual=False, fit_intercept=True,\n",
       "          intercept_scaling=1, max_iter=100, multi_class='warn',\n",
       "          n_jobs=None, penalty='l2', random_state=None, solver='warn',\n",
       "          tol=0.0001, verbose=0, warm_start=False)"
      ]
     },
     "execution_count": 51,
     "metadata": {},
     "output_type": "execute_result"
    }
   ],
   "source": [
    "clf = LogisticRegression()\n",
    "clf.fit(train_vecs_dbow_dmm, y_train)"
   ]
  },
  {
   "cell_type": "code",
   "execution_count": 52,
   "metadata": {},
   "outputs": [
    {
     "data": {
      "text/plain": [
       "0.7534915763762761"
      ]
     },
     "execution_count": 52,
     "metadata": {},
     "output_type": "execute_result"
    }
   ],
   "source": [
    "clf.score(validation_vecs_dbow_dmm, y_validation)"
   ]
  },
  {
   "cell_type": "markdown",
   "metadata": {},
   "source": [
    "Hence, the accuracies for the models using Logistic Regression are as follows:\n",
    "\n",
    "* DBOW - 73.6%\n",
    "\n",
    "* DMC - 66.64%\n",
    "\n",
    "* DMM - 73.02%\n",
    "\n",
    "* DBOW + DMC - 74.82%\n",
    "\n",
    "* DBOW + DMM - 75.35%"
   ]
  }
 ],
 "metadata": {
  "kernelspec": {
   "display_name": "Python 3",
   "language": "python",
   "name": "python3"
  },
  "language_info": {
   "codemirror_mode": {
    "name": "ipython",
    "version": 3
   },
   "file_extension": ".py",
   "mimetype": "text/x-python",
   "name": "python",
   "nbconvert_exporter": "python",
   "pygments_lexer": "ipython3",
   "version": "3.7.1"
  }
 },
 "nbformat": 4,
 "nbformat_minor": 2
}
